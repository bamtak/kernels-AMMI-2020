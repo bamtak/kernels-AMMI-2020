{
  "nbformat": 4,
  "nbformat_minor": 0,
  "metadata": {
    "kernelspec": {
      "display_name": "Python 2",
      "language": "python",
      "name": "python2"
    },
    "language_info": {
      "codemirror_mode": {
        "name": "ipython",
        "version": 2
      },
      "file_extension": ".py",
      "mimetype": "text/x-python",
      "name": "python",
      "nbconvert_exporter": "python",
      "pygments_lexer": "ipython2",
      "version": "2.7.3"
    },
    "colab": {
      "name": "Practical Session 5.ipynb",
      "provenance": [],
      "include_colab_link": true
    }
  },
  "cells": [
    {
      "cell_type": "markdown",
      "metadata": {
        "id": "view-in-github",
        "colab_type": "text"
      },
      "source": [
        "<a href=\"https://colab.research.google.com/github/bamtak/kernels-AMMI-2020/blob/master/Practical%20Sessions/Practical%20Session%205.ipynb\" target=\"_parent\"><img src=\"https://colab.research.google.com/assets/colab-badge.svg\" alt=\"Open In Colab\"/></a>"
      ]
    },
    {
      "cell_type": "code",
      "metadata": {
        "id": "U3d5HbhHuhWO",
        "colab_type": "code",
        "colab": {}
      },
      "source": [
        "import numpy as np"
      ],
      "execution_count": 0,
      "outputs": []
    },
    {
      "cell_type": "markdown",
      "metadata": {
        "id": "JvrFtXLtuhWV",
        "colab_type": "text"
      },
      "source": [
        "***\n",
        "## Part 1\n",
        "\n",
        "A function $k: \\mathcal{X} \\times \\mathcal{X} \\to \\mathbb{R}$ is a **positive definite (p.d.) kernel** if and only if\n",
        "\n",
        "$\\forall a_i \\in \\mathbb{R}$, $x_i \\in \\mathcal{X}$, \n",
        "$$\\sum_{i,j = 1}^{m} a_i a_j k(x_i, x_j) \\geq 0$$"
      ]
    },
    {
      "cell_type": "markdown",
      "metadata": {
        "id": "bLzXZiKHuhWW",
        "colab_type": "text"
      },
      "source": [
        "### Exercise 1\n",
        "\n",
        "Let $k_1$ and $k_2$ be p.d. kernels.\n",
        "\n",
        "In each of the following cases, **show that $k$ is a p.d. kernel**\n",
        "\n",
        "**(a)** $k = \\gamma k_1$ with $\\gamma > 0$\n",
        "\n",
        "**(b)** $k = k_1 + k_2$\n",
        "\n",
        "**(c)** Let $f$ be a function $f: \\mathcal{X} \\to \\mathbb{R}$:\n",
        "$$k(x, y) = f(x)\\, k_1(x, y)\\, f(y)$$\n",
        " \n",
        "**(d)** Let $(k_n)$ be a series of p.d. kernels such that for every $x$, $y$, $\\left(k_n(x, y)\\right)_n$ converges. $$k(x, y) = \\lim_{n \\to +\\infty} k_n(x, y)$$\n",
        "\n",
        "**(e)** $k(x, y) = k_1(x, y) k_2(x, y)$ *This is accepted without proof*\n",
        "\n",
        "**(f)** $k(x, y) = \\exp\\,\\left(k_1(x, y)\\right)$\n",
        "\n",
        "**(e)** There exists $\\Phi: \\mathcal{X} \\to \\mathcal{X}'$ such that $$k(x, y) = \\Phi(x)^\\top \\Phi(y)$$\n",
        "\n",
        " *(In fact it is shown in the course that this condition is equivalent to $k$ being p.d.)*"
      ]
    },
    {
      "cell_type": "markdown",
      "metadata": {
        "id": "XiwhoWh6uhWX",
        "colab_type": "text"
      },
      "source": [
        "### Exercise 2\n",
        "\n",
        "The Radial Basis Function (RBF) kernel with parameter $\\sigma$ is defined as follows:\n",
        "\n",
        "$$k_\\sigma(x, y) = \\exp \\left( -\\frac{\\|x-y\\|^2}{2 \\sigma^2}\\right)$$\n",
        "\n",
        "#### Part (a)\n",
        "Show that $k_\\sigma$ is a p.d. kernel.\n",
        "\n",
        "\n",
        "*Hint: Expand $\\|x-y\\|^2$ and use exercise 1*"
      ]
    },
    {
      "cell_type": "markdown",
      "metadata": {
        "id": "tUX0SLmjuhWY",
        "colab_type": "text"
      },
      "source": [
        "### Implementation\n",
        "\n",
        "Vector with vector:"
      ]
    },
    {
      "cell_type": "code",
      "metadata": {
        "id": "E4l-nftguhWZ",
        "colab_type": "code",
        "colab": {}
      },
      "source": [
        "def rbf_kernel_element_wise(x, y, sigma=1):\n",
        "    '''\n",
        "    returns the RBF (Gaussian) kernel k(x, y)\n",
        "    \n",
        "    Input:\n",
        "    ------\n",
        "    x and y are p-dimensional vectors \n",
        "    '''\n",
        "    K = \n",
        "    return K"
      ],
      "execution_count": 0,
      "outputs": []
    },
    {
      "cell_type": "markdown",
      "metadata": {
        "id": "kj9h2bRIuhWd",
        "colab_type": "text"
      },
      "source": [
        "Pairwise: return the matrix $\\left[K(X^1_i, X^2_j)\\right]_{i,j}$\n",
        "\n",
        "*Hint: expand $\\|x-y\\|^2$ again!*"
      ]
    },
    {
      "cell_type": "code",
      "metadata": {
        "id": "1lgMYbcMuhWe",
        "colab_type": "code",
        "colab": {},
        "outputId": "aa544ecb-9cbe-41d2-ec56-e5459b755134"
      },
      "source": [
        "def rbf_kernel(X1, X2, sigma=10):\n",
        "    '''\n",
        "    Returns the kernel matrix K(X1_i, X2_j): size (n1, n2)\n",
        "    \n",
        "    Input:\n",
        "    ------\n",
        "    X1: an (n1, p) matrix\n",
        "    X2: an (n2, p) matrix\n",
        "    '''\n",
        "    X2_norm = np.sum(X2 ** 2, axis = -1)\n",
        "    X1_norm = np.sum(X1 ** 2, axis = -1)\n",
        "    gamma = 1 / (2 * sigma ** 2)\n",
        "    K =\n",
        "    return K"
      ],
      "execution_count": 0,
      "outputs": [
        {
          "output_type": "error",
          "ename": "SyntaxError",
          "evalue": "invalid syntax (<ipython-input-6-f458d1aa6de6>, line 13)",
          "traceback": [
            "\u001b[0;36m  File \u001b[0;32m\"<ipython-input-6-f458d1aa6de6>\"\u001b[0;36m, line \u001b[0;32m13\u001b[0m\n\u001b[0;31m    K =\u001b[0m\n\u001b[0m       ^\u001b[0m\n\u001b[0;31mSyntaxError\u001b[0m\u001b[0;31m:\u001b[0m invalid syntax\n"
          ]
        }
      ]
    },
    {
      "cell_type": "markdown",
      "metadata": {
        "id": "iYkPd1BfuhWi",
        "colab_type": "text"
      },
      "source": [
        "#### Test it:"
      ]
    },
    {
      "cell_type": "code",
      "metadata": {
        "id": "uEf8ytAcuhWj",
        "colab_type": "code",
        "colab": {},
        "outputId": "0f22b4d1-3067-46d4-c9cb-4b7737aae5a6"
      },
      "source": [
        "p = 3\n",
        "X_train = np.random.randn(0, 1, (10, p))\n",
        "X_test = np.zeros((15, p))\n",
        "\n",
        "print(rbf_kernel(X_test, X_train).shape)"
      ],
      "execution_count": 0,
      "outputs": [
        {
          "output_type": "error",
          "ename": "NameError",
          "evalue": "name 'rbf_kernel' is not defined",
          "traceback": [
            "\u001b[0;31m---------------------------------------------------------------------------\u001b[0m",
            "\u001b[0;31mNameError\u001b[0m                                 Traceback (most recent call last)",
            "\u001b[0;32m<ipython-input-5-746c4dbce7d8>\u001b[0m in \u001b[0;36m<module>\u001b[0;34m()\u001b[0m\n\u001b[1;32m      3\u001b[0m \u001b[0mX_test\u001b[0m \u001b[0;34m=\u001b[0m \u001b[0mnp\u001b[0m\u001b[0;34m.\u001b[0m\u001b[0mzeros\u001b[0m\u001b[0;34m(\u001b[0m\u001b[0;34m(\u001b[0m\u001b[0;36m15\u001b[0m\u001b[0;34m,\u001b[0m \u001b[0mp\u001b[0m\u001b[0;34m)\u001b[0m\u001b[0;34m)\u001b[0m\u001b[0;34m\u001b[0m\u001b[0m\n\u001b[1;32m      4\u001b[0m \u001b[0;34m\u001b[0m\u001b[0m\n\u001b[0;32m----> 5\u001b[0;31m \u001b[0;32mprint\u001b[0m\u001b[0;34m(\u001b[0m\u001b[0mrbf_kernel\u001b[0m\u001b[0;34m(\u001b[0m\u001b[0mX_test\u001b[0m\u001b[0;34m,\u001b[0m \u001b[0mX_train\u001b[0m\u001b[0;34m)\u001b[0m\u001b[0;34m.\u001b[0m\u001b[0mshape\u001b[0m\u001b[0;34m)\u001b[0m\u001b[0;34m\u001b[0m\u001b[0m\n\u001b[0m",
            "\u001b[0;31mNameError\u001b[0m: name 'rbf_kernel' is not defined"
          ]
        }
      ]
    },
    {
      "cell_type": "markdown",
      "metadata": {
        "id": "8-7oLxjmuhWn",
        "colab_type": "text"
      },
      "source": [
        "### Choosing $\\sigma$\n",
        "A practical approach of choosing $\\sigma$ is called the \"median heuristic\":\n",
        "    $$ \\sigma \\approx median\\{\\|x_i-x_j\\|:i,j=1,\\dots,n\\} \\,.$$\n",
        "\n",
        "Implement this heuristic:"
      ]
    },
    {
      "cell_type": "code",
      "metadata": {
        "id": "fGNzty4zuhWo",
        "colab_type": "code",
        "colab": {}
      },
      "source": [
        "def sigma_from_median(X):\n",
        "    '''\n",
        "    Returns the median of ||Xi-Xj||\n",
        "    \n",
        "    Input\n",
        "    -----\n",
        "    X: (n, p) matrix\n",
        "    '''\n",
        "    euclidean_dist = \n",
        "    return np.median(euclidean_dist)\n",
        "\n",
        "print(sigma_from_median(X_train))"
      ],
      "execution_count": 0,
      "outputs": []
    },
    {
      "cell_type": "code",
      "metadata": {
        "id": "eWkrTiI0uhWr",
        "colab_type": "code",
        "colab": {}
      },
      "source": [
        "# Simulate data\n",
        "np.random.seed(54321)\n",
        "p = 2\n",
        "\n",
        "def generate_Xy(n_samples, p=2, sigma=.2):\n",
        "    # Half of y is 1s, other half is -1\n",
        "    y = np.ones(n_samples)\n",
        "    mid = int(n_samples / 2)\n",
        "    y[mid:] *= -1\n",
        "    \n",
        "    X = np.random.normal(0, sigma, (n_samples, p))\n",
        "    X += (1 - y[:, np.newaxis]) / 2 # add 1 when y = -1\n",
        "    # X of shape (n, p)\n",
        "    # y vector of length n\n",
        "    return X, y\n",
        "\n",
        "# Training data\n",
        "X_train, y_train = generate_Xy(20, sigma=1.)\n",
        "\n",
        "# Testing data\n",
        "X_test, y_test = generate_Xy(1000, sigma=10.)"
      ],
      "execution_count": 0,
      "outputs": []
    },
    {
      "cell_type": "markdown",
      "metadata": {
        "id": "nAs_NnreuhWv",
        "colab_type": "text"
      },
      "source": [
        "Plot the matrix $K$ for different values of sigma"
      ]
    },
    {
      "cell_type": "code",
      "metadata": {
        "id": "K53sn8SWuhWw",
        "colab_type": "code",
        "colab": {},
        "outputId": "992ef3e6-2de6-4744-fdd2-c3a7554d6ba6"
      },
      "source": [
        "from matplotlib import pyplot as plt\n",
        "%matplotlib inline\n",
        "\n",
        "# sigma very small, very large and median heuristic\n",
        "sig = sigma_from_median(Xtrain)\n",
        "K = \n",
        "\n",
        "# Plot\n",
        "fig, (ax0) = plt.subplots(1,1)\n",
        "ax0.matshow(K)"
      ],
      "execution_count": 0,
      "outputs": [
        {
          "output_type": "error",
          "ename": "NameError",
          "evalue": "name 'sigma_from_median' is not defined",
          "traceback": [
            "\u001b[0;31m---------------------------------------------------------------------------\u001b[0m",
            "\u001b[0;31mNameError\u001b[0m                                 Traceback (most recent call last)",
            "\u001b[0;32m<ipython-input-8-7dce47944086>\u001b[0m in \u001b[0;36m<module>\u001b[0;34m()\u001b[0m\n\u001b[1;32m      5\u001b[0m \u001b[0;31m# sigma very small, very large and median heuristic\u001b[0m\u001b[0;34m\u001b[0m\u001b[0;34m\u001b[0m\u001b[0m\n\u001b[1;32m      6\u001b[0m \u001b[0mkeyL\u001b[0m \u001b[0;34m=\u001b[0m \u001b[0;34m[\u001b[0m\u001b[0;34m'Very small sigma'\u001b[0m\u001b[0;34m,\u001b[0m \u001b[0;34m'Very large sigma'\u001b[0m\u001b[0;34m,\u001b[0m \u001b[0;34m'Median heuristic'\u001b[0m\u001b[0;34m]\u001b[0m\u001b[0;34m\u001b[0m\u001b[0m\n\u001b[0;32m----> 7\u001b[0;31m \u001b[0msigL\u001b[0m \u001b[0;34m=\u001b[0m \u001b[0;34m[\u001b[0m\u001b[0;36m1e-6\u001b[0m\u001b[0;34m,\u001b[0m \u001b[0;36m1e6\u001b[0m\u001b[0;34m,\u001b[0m \u001b[0msigma_from_median\u001b[0m\u001b[0;34m(\u001b[0m\u001b[0mXtrain\u001b[0m\u001b[0;34m)\u001b[0m\u001b[0;34m]\u001b[0m\u001b[0;34m\u001b[0m\u001b[0m\n\u001b[0m\u001b[1;32m      8\u001b[0m \u001b[0mKL\u001b[0m \u001b[0;34m=\u001b[0m \u001b[0;34m[\u001b[0m\u001b[0mrbf_kernel\u001b[0m\u001b[0;34m(\u001b[0m\u001b[0mXtrain\u001b[0m\u001b[0;34m,\u001b[0m \u001b[0mXtrain\u001b[0m\u001b[0;34m,\u001b[0m \u001b[0msigma\u001b[0m\u001b[0;34m=\u001b[0m\u001b[0msig\u001b[0m\u001b[0;34m)\u001b[0m \u001b[0;32mfor\u001b[0m \u001b[0msig\u001b[0m \u001b[0;32min\u001b[0m \u001b[0msigL\u001b[0m\u001b[0;34m]\u001b[0m\u001b[0;34m\u001b[0m\u001b[0m\n\u001b[1;32m      9\u001b[0m \u001b[0;34m\u001b[0m\u001b[0m\n",
            "\u001b[0;31mNameError\u001b[0m: name 'sigma_from_median' is not defined"
          ]
        }
      ]
    },
    {
      "cell_type": "markdown",
      "metadata": {
        "id": "bxAO87uquhWz",
        "colab_type": "text"
      },
      "source": [
        "### Kernel Ridge Regression\n"
      ]
    },
    {
      "cell_type": "code",
      "metadata": {
        "id": "bIiKO3hruhW0",
        "colab_type": "code",
        "colab": {}
      },
      "source": [
        "class KernelRidge():\n",
        "    '''\n",
        "    Kernel Ridge Regression\n",
        "    '''\n",
        "    def __init__(self, sigma=None, lambd=0.1):\n",
        "        self.kernel = rbf_kernel\n",
        "        self.sigma = sigma\n",
        "        self.lambd = lambd\n",
        "\n",
        "    def fit(self, X, y):\n",
        "        n, p = X.shape\n",
        "        assert (n == len(y))\n",
        "    \n",
        "        self.X_train = X\n",
        "        \n",
        "        # Compute default sigma\n",
        "        if self.sigma is None:\n",
        "            self.sigma = \n",
        "\n",
        "        # self.alpha = (K + n lambda I)^-1 y\n",
        "\n",
        "        return self\n",
        "        \n",
        "    def predict(self, X):\n",
        "        # Prediction rule: \n",
        "        return "
      ],
      "execution_count": 0,
      "outputs": []
    },
    {
      "cell_type": "code",
      "metadata": {
        "scrolled": true,
        "id": "rEzbqTC4uhW3",
        "colab_type": "code",
        "colab": {},
        "outputId": "2445d726-a61d-4c3e-aece-5721b4078f81"
      },
      "source": [
        "model = KernelRidge(lambd=0.1, sigma=None)\n",
        "model.fit(Xtrain, ytrain).predict(Xtest)"
      ],
      "execution_count": 0,
      "outputs": [
        {
          "output_type": "execute_result",
          "data": {
            "text/plain": [
              "array([ 0.51970182,  0.55911705,  0.48255494,  0.51560631,  0.46670212,\n",
              "        0.51054277,  0.47172857,  0.47086859,  0.54429453,  0.54770767,\n",
              "        0.45552314,  0.46840654,  0.30607116,  0.49008368,  0.5253794 ,\n",
              "        0.42736933,  0.49930503,  0.41617075,  0.48218923,  0.46816863,\n",
              "        0.46987034,  0.51753461,  0.47017448,  0.50976508,  0.54240157,\n",
              "        0.42588491,  0.47259491,  0.52710212,  0.43619919,  0.4121355 ,\n",
              "        0.52727164,  0.4165148 ,  0.45114217,  0.47579989,  0.49470782,\n",
              "        0.56093866,  0.4893487 ,  0.52228012,  0.43808997,  0.5536883 ,\n",
              "        0.44804678,  0.48808828,  0.44851005,  0.5443624 ,  0.45109541,\n",
              "        0.53452209,  0.50372204,  0.52484532,  0.48718113,  0.54624079,\n",
              "        0.54556161,  0.47560946, -0.25397978, -0.28066301, -0.3265254 ,\n",
              "       -0.16854957,  0.03254212, -0.26251318, -0.24019375, -0.05011492,\n",
              "       -0.25018106,  0.27289231, -0.14470363, -0.09923317, -0.00491888,\n",
              "        0.0923028 , -0.07025557, -0.2410661 , -0.34078275, -0.04058272,\n",
              "       -0.16398267,  0.39773427,  0.31618166, -0.14679421, -0.44341201,\n",
              "        0.01704102,  0.09470312, -0.33743934, -0.16402141,  0.1160758 ,\n",
              "        0.41690086,  0.51898199, -0.57722924,  0.52661055,  0.22852033,\n",
              "       -0.56096387, -0.52039995,  0.0072435 ,  0.22892672, -0.15246475,\n",
              "        0.01144967, -0.0345763 , -0.10450685, -0.01566268, -0.11595377,\n",
              "        0.07693885, -0.01811358, -0.36515894, -0.46361686, -0.54705365])"
            ]
          },
          "metadata": {
            "tags": []
          },
          "execution_count": 105
        }
      ]
    },
    {
      "cell_type": "markdown",
      "metadata": {
        "id": "5rMoEz6UuhW9",
        "colab_type": "text"
      },
      "source": [
        "#### Reproduce the figures from slide 135"
      ]
    },
    {
      "cell_type": "code",
      "metadata": {
        "id": "xFMCqEaYuhW9",
        "colab_type": "code",
        "colab": {}
      },
      "source": [
        ""
      ],
      "execution_count": 0,
      "outputs": []
    }
  ]
}